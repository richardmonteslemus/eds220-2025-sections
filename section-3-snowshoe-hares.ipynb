{
 "cells": [
  {
   "cell_type": "markdown",
   "id": "d00c7606-37d5-43fc-bc23-3ba8117d5b2c",
   "metadata": {},
   "source": [
    "# Week 3 Bonanza Creek Experimental Forest"
   ]
  },
  {
   "cell_type": "markdown",
   "id": "82f7ea7a-7353-4cd9-9aae-86f261f67c20",
   "metadata": {},
   "source": [
    "The following data contains capture and relase survey data about the snowshoe hare in Bonanza Creek.\n",
    "\n",
    "\n",
    "Citation: Kielland, K., F.S. Chapin, R.W. Ruess, and Bonanza Creek LTER. 2017. Snowshoe hare physical data in Bonanza Creek Experimental Forest: 1999-Present ver 22. Environmental Data Initiative. https://doi.org/10.6073/pasta/03dce4856d79b91557d8e6ce2cbcdc14 (Accessed 2025-10-17)."
   ]
  },
  {
   "cell_type": "markdown",
   "id": "6b657b68-09fb-42ca-b07d-eef20006300a",
   "metadata": {
    "tags": []
   },
   "source": [
    "![snowshoe_hare](https://upload.wikimedia.org/wikipedia/commons/thumb/8/8a/SNOWSHOE_HARE_%28Lepus_americanus%29_%285-28-2015%29_quoddy_head%2C_washington_co%2C_maine_-01_%2818988734889%29.jpg/1452px-SNOWSHOE_HARE_%28Lepus_americanus%29_%285-28-2015%29_quoddy_head%2C_washington_co%2C_maine_-01_%2818988734889%29.jpg?20170313021652)\n",
    "\n",
    "Copyright: Publically available "
   ]
  },
  {
   "cell_type": "code",
   "execution_count": 6,
   "id": "457eb95e-cb29-4c28-8a8d-9217e2cfc537",
   "metadata": {
    "tags": []
   },
   "outputs": [],
   "source": [
    "# Import libraries \n",
    "import pandas as pd \n",
    "import numpy as np"
   ]
  },
  {
   "cell_type": "code",
   "execution_count": 7,
   "id": "6a77c5ef-7cd1-4bb7-8027-6a38f2679c7d",
   "metadata": {
    "tags": []
   },
   "outputs": [],
   "source": [
    "# Read in data \n",
    "hares = pd.read_csv(\"https://pasta.lternet.edu/package/data/eml/knb-lter-bnz/55/22/f01f5d71be949b8c700b6ecd1c42c701\")"
   ]
  },
  {
   "cell_type": "code",
   "execution_count": 9,
   "id": "60946b23-2bae-464a-b773-193f02f4a1f4",
   "metadata": {
    "tags": []
   },
   "outputs": [
    {
     "data": {
      "text/html": [
       "<div>\n",
       "<style scoped>\n",
       "    .dataframe tbody tr th:only-of-type {\n",
       "        vertical-align: middle;\n",
       "    }\n",
       "\n",
       "    .dataframe tbody tr th {\n",
       "        vertical-align: top;\n",
       "    }\n",
       "\n",
       "    .dataframe thead th {\n",
       "        text-align: right;\n",
       "    }\n",
       "</style>\n",
       "<table border=\"1\" class=\"dataframe\">\n",
       "  <thead>\n",
       "    <tr style=\"text-align: right;\">\n",
       "      <th></th>\n",
       "      <th>date</th>\n",
       "      <th>time</th>\n",
       "      <th>grid</th>\n",
       "      <th>trap</th>\n",
       "      <th>l_ear</th>\n",
       "      <th>r_ear</th>\n",
       "      <th>sex</th>\n",
       "      <th>age</th>\n",
       "      <th>weight</th>\n",
       "      <th>hindft</th>\n",
       "      <th>notes</th>\n",
       "      <th>b_key</th>\n",
       "      <th>session_id</th>\n",
       "      <th>study</th>\n",
       "    </tr>\n",
       "  </thead>\n",
       "  <tbody>\n",
       "    <tr>\n",
       "      <th>0</th>\n",
       "      <td>11/26/1998</td>\n",
       "      <td>NaN</td>\n",
       "      <td>bonrip</td>\n",
       "      <td>1A</td>\n",
       "      <td>414D096A08</td>\n",
       "      <td>NaN</td>\n",
       "      <td>NaN</td>\n",
       "      <td>NaN</td>\n",
       "      <td>1370.0</td>\n",
       "      <td>160.0</td>\n",
       "      <td>NaN</td>\n",
       "      <td>917.0</td>\n",
       "      <td>51</td>\n",
       "      <td>Population</td>\n",
       "    </tr>\n",
       "    <tr>\n",
       "      <th>1</th>\n",
       "      <td>11/26/1998</td>\n",
       "      <td>NaN</td>\n",
       "      <td>bonrip</td>\n",
       "      <td>2C</td>\n",
       "      <td>414D320671</td>\n",
       "      <td>NaN</td>\n",
       "      <td>M</td>\n",
       "      <td>NaN</td>\n",
       "      <td>1430.0</td>\n",
       "      <td>NaN</td>\n",
       "      <td>NaN</td>\n",
       "      <td>936.0</td>\n",
       "      <td>51</td>\n",
       "      <td>Population</td>\n",
       "    </tr>\n",
       "    <tr>\n",
       "      <th>2</th>\n",
       "      <td>11/26/1998</td>\n",
       "      <td>NaN</td>\n",
       "      <td>bonrip</td>\n",
       "      <td>2D</td>\n",
       "      <td>414D103E3A</td>\n",
       "      <td>NaN</td>\n",
       "      <td>M</td>\n",
       "      <td>NaN</td>\n",
       "      <td>1430.0</td>\n",
       "      <td>NaN</td>\n",
       "      <td>NaN</td>\n",
       "      <td>921.0</td>\n",
       "      <td>51</td>\n",
       "      <td>Population</td>\n",
       "    </tr>\n",
       "    <tr>\n",
       "      <th>3</th>\n",
       "      <td>11/26/1998</td>\n",
       "      <td>NaN</td>\n",
       "      <td>bonrip</td>\n",
       "      <td>2E</td>\n",
       "      <td>414D262D43</td>\n",
       "      <td>NaN</td>\n",
       "      <td>NaN</td>\n",
       "      <td>NaN</td>\n",
       "      <td>1490.0</td>\n",
       "      <td>135.0</td>\n",
       "      <td>NaN</td>\n",
       "      <td>931.0</td>\n",
       "      <td>51</td>\n",
       "      <td>Population</td>\n",
       "    </tr>\n",
       "    <tr>\n",
       "      <th>4</th>\n",
       "      <td>11/26/1998</td>\n",
       "      <td>NaN</td>\n",
       "      <td>bonrip</td>\n",
       "      <td>3B</td>\n",
       "      <td>414D2B4B58</td>\n",
       "      <td>NaN</td>\n",
       "      <td>NaN</td>\n",
       "      <td>NaN</td>\n",
       "      <td>1710.0</td>\n",
       "      <td>150.0</td>\n",
       "      <td>NaN</td>\n",
       "      <td>933.0</td>\n",
       "      <td>51</td>\n",
       "      <td>Population</td>\n",
       "    </tr>\n",
       "  </tbody>\n",
       "</table>\n",
       "</div>"
      ],
      "text/plain": [
       "         date time    grid trap       l_ear r_ear  sex  age  weight  hindft  \\\n",
       "0  11/26/1998  NaN  bonrip   1A  414D096A08   NaN  NaN  NaN  1370.0   160.0   \n",
       "1  11/26/1998  NaN  bonrip   2C  414D320671   NaN    M  NaN  1430.0     NaN   \n",
       "2  11/26/1998  NaN  bonrip   2D  414D103E3A   NaN    M  NaN  1430.0     NaN   \n",
       "3  11/26/1998  NaN  bonrip   2E  414D262D43   NaN  NaN  NaN  1490.0   135.0   \n",
       "4  11/26/1998  NaN  bonrip   3B  414D2B4B58   NaN  NaN  NaN  1710.0   150.0   \n",
       "\n",
       "  notes  b_key  session_id       study  \n",
       "0   NaN  917.0          51  Population  \n",
       "1   NaN  936.0          51  Population  \n",
       "2   NaN  921.0          51  Population  \n",
       "3   NaN  931.0          51  Population  \n",
       "4   NaN  933.0          51  Population  "
      ]
     },
     "execution_count": 9,
     "metadata": {},
     "output_type": "execute_result"
    }
   ],
   "source": [
    "hares.head()"
   ]
  },
  {
   "cell_type": "code",
   "execution_count": 10,
   "id": "de44be95-045a-480c-8bb9-22b95585e325",
   "metadata": {
    "tags": []
   },
   "outputs": [
    {
     "data": {
      "text/plain": [
       "date           object\n",
       "time           object\n",
       "grid           object\n",
       "trap           object\n",
       "l_ear          object\n",
       "r_ear          object\n",
       "sex            object\n",
       "age            object\n",
       "weight        float64\n",
       "hindft        float64\n",
       "notes          object\n",
       "b_key         float64\n",
       "session_id      int64\n",
       "study          object\n",
       "dtype: object"
      ]
     },
     "execution_count": 10,
     "metadata": {},
     "output_type": "execute_result"
    }
   ],
   "source": [
    "hares.dtypes"
   ]
  },
  {
   "cell_type": "code",
   "execution_count": 11,
   "id": "f8659d5b-554b-47ea-ac6f-b4a6902b8fe8",
   "metadata": {
    "tags": []
   },
   "outputs": [
    {
     "data": {
      "text/plain": [
       "(3380, 14)"
      ]
     },
     "execution_count": 11,
     "metadata": {},
     "output_type": "execute_result"
    }
   ],
   "source": [
    "hares.shape"
   ]
  },
  {
   "cell_type": "code",
   "execution_count": 12,
   "id": "6c5b5fb9-9466-456a-8d1b-533ad2eabff1",
   "metadata": {
    "tags": []
   },
   "outputs": [
    {
     "data": {
      "text/plain": [
       "Index(['date', 'time', 'grid', 'trap', 'l_ear', 'r_ear', 'sex', 'age',\n",
       "       'weight', 'hindft', 'notes', 'b_key', 'session_id', 'study'],\n",
       "      dtype='object')"
      ]
     },
     "execution_count": 12,
     "metadata": {},
     "output_type": "execute_result"
    }
   ],
   "source": [
    "hares.columns"
   ]
  },
  {
   "cell_type": "code",
   "execution_count": 13,
   "id": "5eb44f8b-ad41-4bbb-9391-9949d7ea05cf",
   "metadata": {
    "tags": []
   },
   "outputs": [
    {
     "data": {
      "text/plain": [
       "array(['1A', '2C', '2D', '2E', '3B', '3D', '4A', '4B', '4C', '4E', '5A',\n",
       "       '5C', '5D', '5E', '10C', '1C', '1E', '2A', '2B', '3C', '3E', '5B',\n",
       "       '6A', '6B', '6C', '7B', '7C', '7E', '8A', '8B', '8E', '9A', '9D',\n",
       "       '1D', '6E', '7D', '8C', '8D', '9B', '3A', '10B', '1B', '7A', '9E',\n",
       "       '4D', '10A', '6D', '9C', '10D', '10E', '10b', '2a', '2b', '2d',\n",
       "       '3b', '4a', '4c', '4e', '5b', '6c', '7a', '7b', '7d', '7e', '8e',\n",
       "       '9a', '1b', '2c', '2e', '3c', '1e', '3e', '5d', '3d', '4d', '7c',\n",
       "       '8c', '10c', '1c', '1d', '9d', '5e', '6a', '8a', '8b', '6b', '10e',\n",
       "       '6e', nan, '4b', '5c', '9c', '10a', '5a', '9b', '9e', '6d', '1a',\n",
       "       '3a', '10d', '8d', '4f', '5f', '3f', '2f', '2g', '5g', '4g', '1g',\n",
       "       '7f', '6f', '6g', '3g', '4c ', '4e ', '1e ', '1b ', '2b ', '6b ',\n",
       "       '2c ', '5c ', '4b '], dtype=object)"
      ]
     },
     "execution_count": 13,
     "metadata": {},
     "output_type": "execute_result"
    }
   ],
   "source": [
    "hares.trap.unique()"
   ]
  },
  {
   "cell_type": "code",
   "execution_count": 14,
   "id": "63553c6b-dd63-48c5-9a75-55712541485c",
   "metadata": {
    "tags": []
   },
   "outputs": [
    {
     "data": {
      "text/plain": [
       "date             0\n",
       "time          3116\n",
       "grid             0\n",
       "trap            12\n",
       "l_ear           48\n",
       "r_ear          169\n",
       "sex            352\n",
       "age           2111\n",
       "weight         535\n",
       "hindft        1747\n",
       "notes         3137\n",
       "b_key           47\n",
       "session_id       0\n",
       "study          163\n",
       "dtype: int64"
      ]
     },
     "execution_count": 14,
     "metadata": {},
     "output_type": "execute_result"
    }
   ],
   "source": [
    "hares.isna().sum()"
   ]
  },
  {
   "cell_type": "code",
   "execution_count": 18,
   "id": "2212b412-5933-4a62-8e1e-7ae054e79f33",
   "metadata": {
    "tags": []
   },
   "outputs": [
    {
     "data": {
      "text/plain": [
       "2365.0"
      ]
     },
     "execution_count": 18,
     "metadata": {},
     "output_type": "execute_result"
    }
   ],
   "source": [
    "# Check maximum weight of hare \n",
    "hares[\"weight\"].max()"
   ]
  },
  {
   "cell_type": "code",
   "execution_count": 19,
   "id": "3237e354-70e0-4abe-a81b-ed68e57d91a6",
   "metadata": {
    "tags": []
   },
   "outputs": [
    {
     "data": {
      "text/plain": [
       "0.0"
      ]
     },
     "execution_count": 19,
     "metadata": {},
     "output_type": "execute_result"
    }
   ],
   "source": [
    "# Check min weight of hare \n",
    "hares[\"weight\"].min()"
   ]
  },
  {
   "cell_type": "code",
   "execution_count": 20,
   "id": "cd8d5454-8c1d-4061-badf-7aef68fb8029",
   "metadata": {
    "tags": []
   },
   "outputs": [
    {
     "data": {
      "text/plain": [
       "60.0"
      ]
     },
     "execution_count": 20,
     "metadata": {},
     "output_type": "execute_result"
    }
   ],
   "source": [
    "# Hare min hindfoot size \n",
    "hares[\"hindft\"].min()"
   ]
  },
  {
   "cell_type": "code",
   "execution_count": 21,
   "id": "47bc020b-465b-4ac7-bd58-3aac4377ea3f",
   "metadata": {
    "tags": []
   },
   "outputs": [
    {
     "data": {
      "text/plain": [
       "160.0"
      ]
     },
     "execution_count": 21,
     "metadata": {},
     "output_type": "execute_result"
    }
   ],
   "source": [
    "# Hare max hindfoot size \n",
    "hares[\"hindft\"].max()"
   ]
  },
  {
   "cell_type": "markdown",
   "id": "1ed9b75e-639d-49c9-a584-3e4a920c0498",
   "metadata": {},
   "source": [
    "# Look into categorical variables"
   ]
  },
  {
   "cell_type": "code",
   "execution_count": 24,
   "id": "9973b747-f062-4e4b-8b1f-485d63e89613",
   "metadata": {
    "tags": []
   },
   "outputs": [
    {
     "data": {
      "text/plain": [
       "array([nan, 'M', 'F', '?', 'F?', 'M?', 'pf', 'm', 'f', 'f?', 'm?', 'f ',\n",
       "       'm '], dtype=object)"
      ]
     },
     "execution_count": 24,
     "metadata": {},
     "output_type": "execute_result"
    }
   ],
   "source": [
    "hares[\"sex\"].unique()"
   ]
  },
  {
   "cell_type": "code",
   "execution_count": 26,
   "id": "c2b8b9fc-1396-4fc5-bde1-c88b005e3a37",
   "metadata": {
    "tags": []
   },
   "outputs": [
    {
     "data": {
      "text/plain": [
       "array([nan, 'No right ear tag', 'Escapee', 'Mortality', 'Mortality ',\n",
       "       'Old tag lost in L ear',\n",
       "       'Bunny escaped before second ear tag was added',\n",
       "       'Rabbit too bloody, released', 'R Front Foot Injured',\n",
       "       'L Hind Leg Injured',\n",
       "       'Left Front Foot Injured by Mink. Mink Still Around, Not Shy',\n",
       "       'Injured Bunny, Released, No Tags', 'Died after release',\n",
       "       'Dead in trap', 'Dead', 'non-pregnant',\n",
       "       'pregnant (2 peanut sized babies)', 'pregnant', 'Pregnant',\n",
       "       'Pregnant; last collar was chewed off',\n",
       "       '149.074 recapture; collar loose, removed and replaced; non-pregnant',\n",
       "       'previous collar was chewed off',\n",
       "       '149.013 came off/removed; replaced',\n",
       "       '149.033 recapture; collar loose, removed and replaced',\n",
       "       'previous collar fell off',\n",
       "       'collar previously chewed off (put back on the same bunny!)',\n",
       "       'collar broke off, caught in cage', 'dead in trap',\n",
       "       '149.754 recapture; no VHF signal, removed and replaced',\n",
       "       '149.614 recapture; no VHF signal, removed and replaced',\n",
       "       'tick 19',\n",
       "       '149.474 recapture; low battery, removed collar and replaced',\n",
       "       '149.844 recapture; signal very quiet, removed collar and replaced',\n",
       "       'baby', '149.773 recapture; no VHF signal, removed and replaced',\n",
       "       'tick 18',\n",
       "       'removed GPS collar 151.243 (transmitter dead), trapped N of BONRIP grid',\n",
       "       '149.853 recapture; removed collar and replaced',\n",
       "       'ear punch and blood sample taken', 'ear punch taken',\n",
       "       'blood sample taken',\n",
       "       '149.834 recapture; no signal from transmitter, removed collar; ear punch taken',\n",
       "       'GPS collar',\n",
       "       '149.535 recapture; removed due to injury from overtightening',\n",
       "       'removed iButton that was falling off',\n",
       "       '151.243 GPS recapture; removed collar and replaced with VHF collar',\n",
       "       '150.540 GPS recapture; removed collar',\n",
       "       '151.243 GPS recapture; removed collar',\n",
       "       '150.510 GPS recapture; removed collar',\n",
       "       '150.520 GPS recapture off grid; removed GPS collar and replaced with VHF',\n",
       "       '149.334 recapture; no VHF signal, removed collar and replaced',\n",
       "       '149.874 recapture; no VHF signal, removed collar and replaced',\n",
       "       '149.615 recapture; \"kchunk\" VHF signal, removed collar and replaced',\n",
       "       '149.112 recapture; VHF signal strange, removed collar and replaced',\n",
       "       'no tags until 4/18/11', 'tags given today',\n",
       "       'tons of ticks on ears inside and out, as well as top of head, eyes, etc.',\n",
       "       '149.763 recapture; no signal from transmitter, removed and replaced with 149.802; weird ear growth/scab protruding upward from the ear over an inch! Bloody at base',\n",
       "       'yes, captured the same bunny as in 5a!',\n",
       "       '149.723 recapture; removed and replaced with GPS collar 151.273',\n",
       "       '149.844 recapture; removed and replaced with GPS collar 150.510',\n",
       "       '149.802 recapture; removed and replaced with GPS collar 150.520',\n",
       "       '149.744 recapture; removed and replaced with GPS collar 150.530',\n",
       "       '149.814 recapture; removed and replaced with GPS collar 150.540',\n",
       "       'untagged juvenile', 'escaped without replacing collar',\n",
       "       'untagged juvenile dead in trap',\n",
       "       'GPS antenna still attached to zip tie',\n",
       "       '149.723 removed; foot caught in collar',\n",
       "       '149.814 removed; collar too tight', 'New right ear tag',\n",
       "       'No tags given until 11/6/11',\n",
       "       'Trap overturned with lots of digging; hare seems ok',\n",
       "       'RIGHT LEG INJURED IN TRAP', 'DEAD NEAR TRAP', 'DEAD - UNTAGGED ',\n",
       "       'collar 149.373 fell off since last trapping',\n",
       "       'collar fell off since last trapping', 'removed collar in mouth',\n",
       "       'collar fell off sometime before next capture and was found at 3A',\n",
       "       'bunny escaped; has collar', 'mort', 'No right ear tag given.',\n",
       "       'No right ear tag until 9/8/10.',\n",
       "       'left ear tag fell out later, changed to a3132',\n",
       "       'caught two hares in one trap, let both go',\n",
       "       'previously different left ear tag',\n",
       "       'two collars! (also has 149.013)', 'injured in trap, euthanised',\n",
       "       '149.595 recapture; low batteries, removed and replaced',\n",
       "       'batteries ded',\n",
       "       'trap was moved a bit; tar paper off, ground scuffed up',\n",
       "       'no VHF signal, removed collar',\n",
       "       'diggings around cage (probably lynx); eyes watery',\n",
       "       'blood on nose; extremely docile, but sprinted away with plenty of energy',\n",
       "       '149.373 recapture; no VHF signal, removed collar and replaced',\n",
       "       'died in handling, removed collar',\n",
       "       '149.136 recapture; no VHF signal, removed collar and replaced',\n",
       "       '149.434 recapture; no VHF signal, removed collar and replaced',\n",
       "       '149.795 recapture; no VHF signal, removed collar and replaced',\n",
       "       '149.674 recapture; no VHF signal, removed collar and replaced',\n",
       "       'descended testes',\n",
       "       '149.033 recapture; no VHF signal, removed collar and replaced',\n",
       "       '149.413 recapture; no VHF signal, removed collar and replaced',\n",
       "       '149.393 recapture; no VHF signal, removed collar and replaced',\n",
       "       'wrong tag numbers???', 'lethargic, did not hop away',\n",
       "       \"previously a3210/a3211, but both tags must've fallen out because they were put in with a leatherman!\",\n",
       "       'Hare on verge of death, occasional spastic motion with legs, unable to sit upright. Removed collar.',\n",
       "       'Gave birth to 5 leverets in trap (50, 50, 50, 50, 60 g, all dead) and female near death, removed collar.',\n",
       "       'New, untagged hare. Injured right hind foot (possibly by predator overnight). Let go.',\n",
       "       'Juvenile', 'juvenile',\n",
       "       'Removed thinking it was 149.194 that had expired', 'Collared',\n",
       "       'testes descended', \"thought collar was silent, but it wasn't\",\n",
       "       'lots of ticks, fur patchy and mangy looking',\n",
       "       'cut collar, hare near death, died an hour after release'],\n",
       "      dtype=object)"
      ]
     },
     "execution_count": 26,
     "metadata": {},
     "output_type": "execute_result"
    }
   ],
   "source": [
    "hares[\"notes\"].unique()"
   ]
  },
  {
   "cell_type": "markdown",
   "id": "aef1be43-e6da-4677-92e8-4535ecc6dd31",
   "metadata": {},
   "source": [
    "## Study question: \n",
    "\n",
    "Is there a positive relationship between snowshoe hare weight and hindfoot size. "
   ]
  },
  {
   "cell_type": "markdown",
   "id": "83975287-795b-494d-b5c6-ac836ad32bbd",
   "metadata": {},
   "source": [
    "| sex         | definition  |\n",
    "| ----------- | ----------- |\n",
    "| M           | Male        |\n",
    "| m           | Male        |\n",
    "| m?          | Male not confirmed       |\n",
    "| F           | Female      |\n",
    "| f           | Female        |\n",
    "| p          | unknown        |\n",
    "| ?          | unknown        |\n",
    "| F?          | unknown        |\n",
    "| M?          | unknown        |"
   ]
  },
  {
   "cell_type": "code",
   "execution_count": 33,
   "id": "e6ca8aa1-b143-4976-b5aa-5d704e72f281",
   "metadata": {
    "tags": []
   },
   "outputs": [
    {
     "data": {
      "text/plain": [
       "sex\n",
       "F     1161\n",
       "M      730\n",
       "f      556\n",
       "m      515\n",
       "?       40\n",
       "F?      10\n",
       "f        4\n",
       "m        4\n",
       "f?       3\n",
       "M?       2\n",
       "m?       2\n",
       "pf       1\n",
       "Name: count, dtype: int64"
      ]
     },
     "execution_count": 33,
     "metadata": {},
     "output_type": "execute_result"
    }
   ],
   "source": [
    "# Number of unique sex codes\n",
    "hares[\"sex\"].value_counts()"
   ]
  },
  {
   "cell_type": "code",
   "execution_count": 36,
   "id": "1d04eb4e-c36b-4b33-b9fe-9852d99a3004",
   "metadata": {
    "tags": []
   },
   "outputs": [
    {
     "data": {
      "text/plain": [
       "sex\n",
       "F      1161\n",
       "M       730\n",
       "f       556\n",
       "m       515\n",
       "NaN     352\n",
       "?        40\n",
       "F?       10\n",
       "f         4\n",
       "m         4\n",
       "f?        3\n",
       "M?        2\n",
       "m?        2\n",
       "pf        1\n",
       "Name: count, dtype: int64"
      ]
     },
     "execution_count": 36,
     "metadata": {},
     "output_type": "execute_result"
    }
   ],
   "source": [
    "# checking the number without NAs\n",
    "hares[\"sex\"].value_counts(dropna = False)"
   ]
  },
  {
   "cell_type": "markdown",
   "id": "077a84d3-e548-4886-9da0-9bcfd12b24d7",
   "metadata": {},
   "source": [
    "What could be the reason multiple entries for sex that are not male or female? \n",
    "\n",
    "This can be because the data was not collected correctly. Surveyors might not have been trained correctly. \n"
   ]
  },
  {
   "cell_type": "markdown",
   "id": "28901a99-5fc1-4852-a9d6-fec2f2f205f5",
   "metadata": {
    "tags": []
   },
   "source": [
    "Are there duplicates in the sex column? \n",
    "- There are four duplicate rows in the data frame, this might be because the same capture was recorded multiple times accidently."
   ]
  },
  {
   "cell_type": "code",
   "execution_count": 49,
   "id": "1b6ce646-f588-4110-b870-c1930c8d259c",
   "metadata": {
    "tags": []
   },
   "outputs": [
    {
     "data": {
      "text/html": [
       "<div>\n",
       "<style scoped>\n",
       "    .dataframe tbody tr th:only-of-type {\n",
       "        vertical-align: middle;\n",
       "    }\n",
       "\n",
       "    .dataframe tbody tr th {\n",
       "        vertical-align: top;\n",
       "    }\n",
       "\n",
       "    .dataframe thead th {\n",
       "        text-align: right;\n",
       "    }\n",
       "</style>\n",
       "<table border=\"1\" class=\"dataframe\">\n",
       "  <thead>\n",
       "    <tr style=\"text-align: right;\">\n",
       "      <th></th>\n",
       "      <th>date</th>\n",
       "      <th>time</th>\n",
       "      <th>grid</th>\n",
       "      <th>trap</th>\n",
       "      <th>l_ear</th>\n",
       "      <th>r_ear</th>\n",
       "      <th>sex</th>\n",
       "      <th>age</th>\n",
       "      <th>weight</th>\n",
       "      <th>hindft</th>\n",
       "      <th>notes</th>\n",
       "      <th>b_key</th>\n",
       "      <th>session_id</th>\n",
       "      <th>study</th>\n",
       "    </tr>\n",
       "  </thead>\n",
       "  <tbody>\n",
       "    <tr>\n",
       "      <th>2893</th>\n",
       "      <td>7/1/2011</td>\n",
       "      <td>NaN</td>\n",
       "      <td>bonbs</td>\n",
       "      <td>10a</td>\n",
       "      <td>NaN</td>\n",
       "      <td>NaN</td>\n",
       "      <td>NaN</td>\n",
       "      <td>NaN</td>\n",
       "      <td>NaN</td>\n",
       "      <td>NaN</td>\n",
       "      <td>juvenile</td>\n",
       "      <td>NaN</td>\n",
       "      <td>23</td>\n",
       "      <td>Population</td>\n",
       "    </tr>\n",
       "    <tr>\n",
       "      <th>2894</th>\n",
       "      <td>7/1/2011</td>\n",
       "      <td>NaN</td>\n",
       "      <td>bonbs</td>\n",
       "      <td>10a</td>\n",
       "      <td>NaN</td>\n",
       "      <td>NaN</td>\n",
       "      <td>NaN</td>\n",
       "      <td>NaN</td>\n",
       "      <td>NaN</td>\n",
       "      <td>NaN</td>\n",
       "      <td>juvenile</td>\n",
       "      <td>NaN</td>\n",
       "      <td>23</td>\n",
       "      <td>Population</td>\n",
       "    </tr>\n",
       "    <tr>\n",
       "      <th>2895</th>\n",
       "      <td>7/1/2011</td>\n",
       "      <td>NaN</td>\n",
       "      <td>bonbs</td>\n",
       "      <td>10a</td>\n",
       "      <td>NaN</td>\n",
       "      <td>NaN</td>\n",
       "      <td>NaN</td>\n",
       "      <td>NaN</td>\n",
       "      <td>NaN</td>\n",
       "      <td>NaN</td>\n",
       "      <td>juvenile</td>\n",
       "      <td>NaN</td>\n",
       "      <td>23</td>\n",
       "      <td>Population</td>\n",
       "    </tr>\n",
       "    <tr>\n",
       "      <th>3071</th>\n",
       "      <td>9/11/2012</td>\n",
       "      <td>NaN</td>\n",
       "      <td>bonbs</td>\n",
       "      <td>10d</td>\n",
       "      <td>b2834</td>\n",
       "      <td>b2835</td>\n",
       "      <td>f</td>\n",
       "      <td>j</td>\n",
       "      <td>840.0</td>\n",
       "      <td>114.0</td>\n",
       "      <td>NaN</td>\n",
       "      <td>838.0</td>\n",
       "      <td>31</td>\n",
       "      <td>Population</td>\n",
       "    </tr>\n",
       "  </tbody>\n",
       "</table>\n",
       "</div>"
      ],
      "text/plain": [
       "           date time   grid trap  l_ear  r_ear  sex  age  weight  hindft  \\\n",
       "2893   7/1/2011  NaN  bonbs  10a    NaN    NaN  NaN  NaN     NaN     NaN   \n",
       "2894   7/1/2011  NaN  bonbs  10a    NaN    NaN  NaN  NaN     NaN     NaN   \n",
       "2895   7/1/2011  NaN  bonbs  10a    NaN    NaN  NaN  NaN     NaN     NaN   \n",
       "3071  9/11/2012  NaN  bonbs  10d  b2834  b2835    f    j   840.0   114.0   \n",
       "\n",
       "         notes  b_key  session_id       study  \n",
       "2893  juvenile    NaN          23  Population  \n",
       "2894  juvenile    NaN          23  Population  \n",
       "2895  juvenile    NaN          23  Population  \n",
       "3071       NaN  838.0          31  Population  "
      ]
     },
     "execution_count": 49,
     "metadata": {},
     "output_type": "execute_result"
    }
   ],
   "source": [
    "hares[hares.duplicated()]"
   ]
  },
  {
   "cell_type": "markdown",
   "id": "83d81a1e-b08c-4fb7-9dbb-1c2dd85c08a0",
   "metadata": {},
   "source": [
    "## Step by step instructions for wrangling data so that we clean data to only have male and female. "
   ]
  },
  {
   "cell_type": "markdown",
   "id": "f6961ca2-6215-4a8c-9cdb-19f0782078f2",
   "metadata": {},
   "source": [
    "1. Create a series containing all string values corresponding to male and female. \n",
    "2. Use a function that takes this series and uses it to reassign values in sex column with its correct label. \n",
    "3. This would have M for values like M?, m?, m_ and for F values like F?, f?, f_, etc., while ? can be sued to fill in all that are neither explicitly male or female. "
   ]
  },
  {
   "cell_type": "code",
   "execution_count": 54,
   "id": "6a70f0dc-2165-4930-9f6f-e190165e3194",
   "metadata": {
    "tags": []
   },
   "outputs": [],
   "source": [
    "hares[\"sex_simple\"] = hares[\"sex\"].str.strip().np.select(\n",
    "condlist = ([\"F\"]), \n",
    "choice)"
   ]
  },
  {
   "cell_type": "code",
   "execution_count": 58,
   "id": "64398eea-8090-4bcb-84a3-aade3f50d7d8",
   "metadata": {
    "tags": []
   },
   "outputs": [],
   "source": [
    "# Set conditions to select \n",
    "\n",
    "conditions = [(hares[\"sex\"].isin(['m', 'M', \"m_\"])),\n",
    "             (hares[\"sex\"].isin([\"f\", \"F\", \"f_\"]))]\n",
    "\n",
    "choices = ['male', \"female\"]\n",
    "\n",
    "default = \"unknown\"\n",
    "\n",
    "hares['sex_simple'] = np.select(conditions, choices, default = default)"
   ]
  },
  {
   "cell_type": "code",
   "execution_count": 61,
   "id": "231141c0-b015-4e8d-9670-7fc153919ed1",
   "metadata": {
    "tags": []
   },
   "outputs": [
    {
     "data": {
      "text/plain": [
       "sex_simple\n",
       "female     1717\n",
       "male       1245\n",
       "unknown     418\n",
       "Name: count, dtype: int64"
      ]
     },
     "execution_count": 61,
     "metadata": {},
     "output_type": "execute_result"
    }
   ],
   "source": [
    "hares[\"sex_simple\"].value_counts()"
   ]
  },
  {
   "cell_type": "code",
   "execution_count": 63,
   "id": "9fe6a785-0a4a-4c17-a209-45dfe9afaa30",
   "metadata": {
    "tags": []
   },
   "outputs": [],
   "source": [
    "hares.sex.unique()\n",
    "x = hares.sex"
   ]
  },
  {
   "cell_type": "code",
   "execution_count": 70,
   "id": "7d41d01a-229f-463c-ad73-47c69a59a806",
   "metadata": {
    "tags": []
   },
   "outputs": [],
   "source": [
    "condition_list = [x.isin([\"M\", \"m\", \"m_\"]), x.isin([\"F\", \"f\", \"f_\"])]\n",
    "output_list = [\"male\", \"female\"]\n",
    "\n",
    "hares[\"sex_simple\"] = np.select(condition_list, output_list, default = np.nan)"
   ]
  },
  {
   "cell_type": "markdown",
   "id": "3b165d0b-5009-4b26-88e7-6e188b53b93d",
   "metadata": {},
   "source": [
    "# Calculate mean weights"
   ]
  },
  {
   "cell_type": "code",
   "execution_count": 71,
   "id": "50d1d8cc-fc0d-426b-9e29-b6ebfab3ebc8",
   "metadata": {
    "tags": []
   },
   "outputs": [
    {
     "data": {
      "text/plain": [
       "sex_simple\n",
       "female    1366.920372\n",
       "male      1352.145553\n",
       "nan       1176.511111\n",
       "Name: weight, dtype: float64"
      ]
     },
     "execution_count": 71,
     "metadata": {},
     "output_type": "execute_result"
    }
   ],
   "source": [
    "hares.groupby(by = \"sex_simple\")[\"weight\"].mean()"
   ]
  },
  {
   "cell_type": "code",
   "execution_count": null,
   "id": "f903a8c2-b29e-4f9f-a894-22b2beb8ea6e",
   "metadata": {},
   "outputs": [],
   "source": []
  }
 ],
 "metadata": {
  "kernelspec": {
   "display_name": "EDS220",
   "language": "python",
   "name": "eds220-env"
  },
  "language_info": {
   "codemirror_mode": {
    "name": "ipython",
    "version": 3
   },
   "file_extension": ".py",
   "mimetype": "text/x-python",
   "name": "python",
   "nbconvert_exporter": "python",
   "pygments_lexer": "ipython3",
   "version": "3.11.4"
  }
 },
 "nbformat": 4,
 "nbformat_minor": 5
}
