{
 "cells": [
  {
   "cell_type": "markdown",
   "id": "4426fe15-b35f-4e9d-be8e-2c336accbdb4",
   "metadata": {},
   "source": [
    "# Colorado River Basin Water Confllicts"
   ]
  },
  {
   "cell_type": "markdown",
   "id": "157d6e47-48e3-4a89-af05-1d40c1d54b17",
   "metadata": {},
   "source": [
    "# 1. Archive exploration\n",
    "\n",
    "This data was collected from research team members of nine public, recorded meetings of water control boards and official organizations in the Colorado River Basin. As well as through cataloging and contexualizing articles from newspapers describing water-related evenets in geographic areas in the Basin. \n",
    "\n",
    "This data stretches from 2005 to 2021. \n",
    "\n",
    "The purpose of this dataset is to provide a better understanding of water-related conflicts in the Colorado River Basin. It was collected in particular for the USGS Water Mission Area which is using it to produce a series of reports involving water availability in the area. \n",
    "\n",
    "Citation: Holloman, D.V., Hines, M.K., and Zoanni, D.K., 2023, Coded Water Conflict and Crisis Events in the Colorado River Basin, Derived from LexisNexis search 2005-2021: U.S. Geological Survey data release, https://doi.org/10.5066/P9X6WR7J.\n",
    "\n",
    "Date of Access: 10/10/25"
   ]
  },
  {
   "cell_type": "code",
   "execution_count": null,
   "id": "b2fc0abd-47e9-4a30-aefc-897798bdb0e3",
   "metadata": {},
   "outputs": [],
   "source": []
  }
 ],
 "metadata": {
  "kernelspec": {
   "display_name": "EDS220",
   "language": "python",
   "name": "eds220-env"
  },
  "language_info": {
   "codemirror_mode": {
    "name": "ipython",
    "version": 3
   },
   "file_extension": ".py",
   "mimetype": "text/x-python",
   "name": "python",
   "nbconvert_exporter": "python",
   "pygments_lexer": "ipython3",
   "version": "3.11.4"
  }
 },
 "nbformat": 4,
 "nbformat_minor": 5
}
